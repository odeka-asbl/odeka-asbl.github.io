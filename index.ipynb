{
  "cells": [
    {
      "cell_type": "raw",
      "metadata": {},
      "source": [
        "---\n",
        "about:\n",
        "  template: jolla\n",
        "  links:\n",
        "    - icon: twitter\n",
        "      text: twitter\n",
        "      href: https://twitter.com\n",
        "    - icon: instagram\n",
        "      text: Instagram\n",
        "      href: https://www.instagram.com/gateau_thecongolesecat/\n",
        "    - icon: linkedin\n",
        "      text: LinkedIn\n",
        "      href: https://linkedin.com\n",
        "\n",
        "page-layout: full\n",
        "---"
      ],
      "id": "28792830"
    },
    {
      "cell_type": "markdown",
      "metadata": {},
      "source": [
        "<div class=\"full-width-banner\">\n",
        "  <img src=\"00_index/image4.JPG\" alt=\"ODEKA banner\" class=\"hero-image\">\n",
        "  <img src=\"00_index/image8.png\" alt=\"ODEKA logo\" class=\"hero-logo\">\n",
        "</div>\n",
        "\n",
        "Under construction\n",
        "\n",
        "<div class=\"logo-strip\">\n",
        "  <img src=\"00_index/image9.jpg\" alt=\"ODEKA logo\" class=\"logo-alone\">\n",
        "</div>\n",
        "\n",
        "Under construction\n",
        "\n",
        "\n",
        "```{listing}\n",
        "contents: news\n",
        "sort: \"date desc\"\n",
        "limit: 4\n",
        "fields: [title, date, description]\n",
        "style: horizontal\n",
        "```\n",
        "\n",
        "\n",
        "<div class=\"full-width-banner\">\n",
        "  <img src=\"00_index/image10.JPG\" alt=\"ODEKA banner\" class=\"hero-image\">\n",
        "</div>\n"
      ],
      "id": "22a37d8e"
    }
  ],
  "metadata": {
    "kernelspec": {
      "display_name": "Python 3",
      "language": "python",
      "name": "python3"
    }
  },
  "nbformat": 4,
  "nbformat_minor": 5
}